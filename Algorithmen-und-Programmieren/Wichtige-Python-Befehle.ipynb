{
 "cells": [
  {
   "cell_type": "markdown",
   "id": "f8d33f2a",
   "metadata": {},
   "source": [
    "# Wichtige Python-Befehle\n",
    "\n",
    "## Variablen\n",
    "- Variablen speichern Werte, während das Programm ausgeführt wird.\n",
    "- Der gespeicherte Wert einer Variablen kann im Programmverlauf geändert werden.\n",
    "- Der Name einer Variable darf nicht mit einer Zahl beginnen, und keine Sonderzeichen ausser dem _ (Unterstrich) enthalten.\n",
    "- Variablen schreibt man immer klein."
   ]
  },
  {
   "cell_type": "code",
   "execution_count": null,
   "id": "a22ece55-351b-4717-b708-5e3bf6d18592",
   "metadata": {},
   "outputs": [],
   "source": [
    "a = 10\n",
    "b = 2.5\n",
    "c = a * b\n",
    "\n",
    "teil_1 = \"Programmier\"\n",
    "teil_2 = \"sprache\"\n",
    "wort = teil_1 + teil_2"
   ]
  },
  {
   "cell_type": "markdown",
   "id": "ae26ecd6",
   "metadata": {},
   "source": [
    "## Ausgabe\n",
    "Mit Hilfe der Funktion\n",
    "```python\n",
    "print()\n",
    "```\n",
    "kann Text ausgegeben werden. Dieser kann direkt in Anführungszeichen mitgegeben oder aus einer Variablen gelesen werden.\n"
   ]
  },
  {
   "cell_type": "code",
   "execution_count": null,
   "id": "4e9d96dd",
   "metadata": {},
   "outputs": [],
   "source": [
    "print(\"Hallo Welt\")\n",
    "\n",
    "text = \"Hallo Welt\"\n",
    "print(text)\n",
    "\n",
    "wort = \"Welt\"\n",
    "print(\"Hallo \" + wort)"
   ]
  },
  {
   "cell_type": "markdown",
   "id": "ebc38db3",
   "metadata": {},
   "source": [
    "## Eingabe\n",
    "Benutzereingaben können mit der Funktion\n",
    "\n",
    "```python\n",
    "input()\n",
    "```\n",
    "\n",
    "gelesen und in einer Variablen gespeichert werden."
   ]
  },
  {
   "cell_type": "code",
   "execution_count": null,
   "id": "065dee09",
   "metadata": {},
   "outputs": [],
   "source": [
    "print(\"Wie lautet dein Name?\")\n",
    "name = input()\n",
    "print(\"Hallo \" + name)"
   ]
  },
  {
   "cell_type": "markdown",
   "id": "f9b80d88-20c2-4365-8cb9-98613c1cdaae",
   "metadata": {},
   "source": [
    "## Verzweigung\n",
    "Mit dem Schlüsselwort **if** kann eine Verzweigung eingeleitet werden. Danach steht eine Bedingung, gefolgt von einem Doppelpunkt **:**.\n",
    "\n",
    "Beachte, dass der Inhalt der Verzweigung stets eingerückt geschrieben werden muss. Nur so erkennt Python, dass die unten stehende print-Anweisung nicht immer ausgeführt werden soll, sondern nur, wenn die beiden Wörter gleich sind.\n",
    "\n",
    "Nach dem **else** steht keine Bedingung mehr. Der else-Block wird immer dann ausgeführt, wenn die Bedingung des if-Blocks nicht erfüllt ist.\n",
    "\n",
    "Achtung: Gleichheit testet man mit 2 Gleichheitszeichen ```==```, sonst wäre es eine Zuweisung!"
   ]
  },
  {
   "cell_type": "code",
   "execution_count": null,
   "id": "860fbdea-32f9-4731-a965-125e4084381c",
   "metadata": {},
   "outputs": [],
   "source": [
    "wort_1 = \"Ich\"\n",
    "wort_2 = \"Du\"\n",
    "\n",
    "if wort_1 == wort_2:\n",
    "    print(\"Die Wörter sind gleich\")\n",
    "else:\n",
    "    print(\"Die Wörter sind verschieden\")"
   ]
  },
  {
   "cell_type": "markdown",
   "id": "ec27a237-0109-4124-8af1-ac3f3c5b0621",
   "metadata": {},
   "source": [
    "## Schleifen\n",
    "Soll ein Block von Anweisungen mehrmals wiederholt werden, verwendet man eine Schleife. Auch hier ist entscheidend, dass der gesamte Schleifeninhalt eingerückt wird - normalerweise um 4 Leerzeichen.\n",
    "\n",
    "Hinweis: Das folgende Beispiel gibt die Zahlen von 0 - 9 aus. Es werden also insgesamt 10 Zahlen ausgegeben. In der Informatik wird in der Regel bei 0 begonnen."
   ]
  },
  {
   "cell_type": "code",
   "execution_count": null,
   "id": "43fe742b-f783-4878-b1aa-83d7b7c01ba1",
   "metadata": {},
   "outputs": [],
   "source": [
    "for i in range(10):\n",
    "    print(i)"
   ]
  },
  {
   "cell_type": "markdown",
   "id": "eb0148e8-1b8a-45b2-8d7e-4e056043c921",
   "metadata": {},
   "source": [
    "Anmerkung: Wer es ganz, ganz, ganz genau wissen will: im [PEP-0008](https://peps.python.org/pep-0008/#prescriptive-naming-conventions) (Python Enhancement Proposals) ist beschrieben, wie Code in Python formatiert werden sollte."
   ]
  },
  {
   "cell_type": "markdown",
   "id": "0d7b1484-3577-4f4e-8169-206112ccbbdd",
   "metadata": {},
   "source": [
    "[Quelle](https://informatik.mygymer.ch/base/?page=programming-1/1-intro/1-basics/)"
   ]
  }
 ],
 "metadata": {
  "kernelspec": {
   "display_name": "Python 3 (ipykernel)",
   "language": "python",
   "name": "python3"
  },
  "language_info": {
   "codemirror_mode": {
    "name": "ipython",
    "version": 3
   },
   "file_extension": ".py",
   "mimetype": "text/x-python",
   "name": "python",
   "nbconvert_exporter": "python",
   "pygments_lexer": "ipython3",
   "version": "3.11.9"
  },
  "latex_envs": {
   "LaTeX_envs_menu_present": true,
   "autoclose": false,
   "autocomplete": true,
   "bibliofile": "biblio.bib",
   "cite_by": "apalike",
   "current_citInitial": 1,
   "eqLabelWithNumbers": true,
   "eqNumInitial": 1,
   "hotkeys": {
    "equation": "Ctrl-E",
    "itemize": "Ctrl-I"
   },
   "labels_anchors": false,
   "latex_user_defs": false,
   "report_style_numbering": false,
   "user_envs_cfg": false
  },
  "toc": {
   "base_numbering": 1,
   "nav_menu": {},
   "number_sections": true,
   "sideBar": true,
   "skip_h1_title": true,
   "title_cell": "Table of Contents",
   "title_sidebar": "Contents",
   "toc_cell": false,
   "toc_position": {},
   "toc_section_display": true,
   "toc_window_display": true
  },
  "varInspector": {
   "cols": {
    "lenName": 16,
    "lenType": 16,
    "lenVar": 40
   },
   "kernels_config": {
    "python": {
     "delete_cmd_postfix": "",
     "delete_cmd_prefix": "del ",
     "library": "var_list.py",
     "varRefreshCmd": "print(var_dic_list())"
    },
    "r": {
     "delete_cmd_postfix": ") ",
     "delete_cmd_prefix": "rm(",
     "library": "var_list.r",
     "varRefreshCmd": "cat(var_dic_list()) "
    }
   },
   "types_to_exclude": [
    "module",
    "function",
    "builtin_function_or_method",
    "instance",
    "_Feature"
   ],
   "window_display": false
  }
 },
 "nbformat": 4,
 "nbformat_minor": 5
}
