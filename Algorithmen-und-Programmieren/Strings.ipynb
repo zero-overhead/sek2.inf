{
 "cells": [
  {
   "cell_type": "markdown",
   "id": "a055708b-7c69-4618-8c1b-1588d4850218",
   "metadata": {},
   "source": [
    "# Wie Sie dieses Notebook nutzen:\n",
    "- Führen Sie diesen Code Zelle für Zelle aus.\n",
    "- Um die Variableninhalte zu beobachten, nutzen Sie in Jupyter-Classic den \"Variable Inspektor\". Falls Sie dieses Notebook in Jupyter-Lab verwenden, nutzen Sie hierfür den eingebauten Debugger.\n",
    "- Wenn Sie \"Code Tutor\" zur Visualisierung des Ablaufes einzelner Zellen nutzen möchten, führen Sie einmalig die nachfolgende Zelle aus. Anschliessend schreiben Sie %%tutor in die erste Zeile jeder Zelle, die Sie visualisieren möchten.\n",
    "- Die Dokumentation von range(), len() und allen anderen eingebauten Funktionen finden Sie hier: https://docs.python.org/3/library/functions.html"
   ]
  },
  {
   "cell_type": "code",
   "execution_count": null,
   "id": "f35aaaad",
   "metadata": {},
   "outputs": [],
   "source": [
    "# Für Code Tutor Visualisierungen\n",
    "from metakernel import register_ipython_magics\n",
    "register_ipython_magics()"
   ]
  },
  {
   "cell_type": "markdown",
   "id": "6657599a-74ce-4f17-ba94-a2abedc95bda",
   "metadata": {},
   "source": [
    "## Strings\n",
    "String können ein- und mehrzeilig definiert werden."
   ]
  },
  {
   "cell_type": "code",
   "execution_count": null,
   "id": "8e1ec2c5-b05d-4796-b9b4-c1d3cc400bb6",
   "metadata": {},
   "outputs": [],
   "source": [
    "einzeiliger_string = \"Da Da Da\"\n",
    "\n",
    "mehrzeiliger_string = \"\"\"\n",
    "Hier kann man mehrere Zeile schreiben\n",
    "Ja, das stimmt!\n",
    "\"\"\""
   ]
  },
  {
   "cell_type": "markdown",
   "id": "15671ee4-f7b3-4cdf-86a2-38fa12afbdcd",
   "metadata": {},
   "source": [
    "Strings können sich selbst mit Hilfe der [split()](https://docs.python.org/3/library/stdtypes.html#str.split)-Methode zerteilen. Die Elemente des Strings werden als Liste zurückgegeben und lassen sich in einer Variablen,  welche dann automatisch eine Liste ist, speichern."
   ]
  },
  {
   "cell_type": "code",
   "execution_count": null,
   "id": "c26147ef",
   "metadata": {},
   "outputs": [],
   "source": [
    "einzelteile = einzeiliger_string.split(\" \")\n",
    "print(einzelteile)"
   ]
  },
  {
   "cell_type": "markdown",
   "id": "18eb29a9-1982-49a4-aeca-888582267636",
   "metadata": {},
   "source": [
    "Das ganze funktioniert auch an Zeilenumbrüchen"
   ]
  },
  {
   "cell_type": "code",
   "execution_count": null,
   "id": "00833874-a8d7-469d-bd55-8ed2488c7f93",
   "metadata": {},
   "outputs": [],
   "source": [
    "mehrzeiliger_string.split(\"\\n\")"
   ]
  },
  {
   "cell_type": "markdown",
   "id": "15d1a5b3",
   "metadata": {},
   "source": [
    "oder noch einfacher mit der Spezialmethode [.splitlines()](https://docs.python.org/3/library/stdtypes.html#str.splitlines)"
   ]
  },
  {
   "cell_type": "code",
   "execution_count": null,
   "id": "4f2dafe2",
   "metadata": {},
   "outputs": [],
   "source": [
    "mehrzeiliger_string.splitlines()"
   ]
  },
  {
   "cell_type": "markdown",
   "id": "541a7a12-5330-43c1-b469-4bbe5849dffe",
   "metadata": {},
   "source": [
    "Strings können Platzhalter {} enhalten"
   ]
  },
  {
   "cell_type": "code",
   "execution_count": null,
   "id": "ce51fdd7-f766-4f3e-b2e9-f5f0163e145b",
   "metadata": {},
   "outputs": [],
   "source": [
    "begruessung1 = \"Hallo {}\"\n",
    "begruessung2 = \"Hallo {} {}\""
   ]
  },
  {
   "cell_type": "markdown",
   "id": "c7a5bd49-95ed-4692-9c7f-6c5cfe2b659e",
   "metadata": {},
   "source": [
    "die man dann ersetzen kann, indem man die Methode [format()](https://docs.python.org/3/library/string.html?highlight=string%20format#format-examples) aufruft und pro Platzhalter einen Wert übergibt. Das ist besonders praktisch in Schleifen."
   ]
  },
  {
   "cell_type": "code",
   "execution_count": null,
   "id": "5c9f6bd2-b50c-441c-92a5-1fa912b414e2",
   "metadata": {},
   "outputs": [],
   "source": [
    "%%tutor\n",
    "begruessung1 = \"Hallo {}\"\n",
    "freunde = [\"Hans\", \"Franz\", \"Susi\"]\n",
    "for freund in freunde:\n",
    "    print(begruessung1.format(freund))"
   ]
  },
  {
   "cell_type": "markdown",
   "id": "d06ab3e4",
   "metadata": {},
   "source": [
    "Bei mehreren Platzhaltern wird in der Reihenfolge der {} ersetzt."
   ]
  },
  {
   "cell_type": "code",
   "execution_count": null,
   "id": "41cb6600",
   "metadata": {},
   "outputs": [],
   "source": [
    "for freund in freunde:\n",
    "    print(begruessung2.format(freund, \"anderer Text\"))"
   ]
  },
  {
   "cell_type": "markdown",
   "id": "079fc483-ff00-4352-bc90-1df53e7beee3",
   "metadata": {},
   "source": [
    "Platzhalter in Strings können auch Namen haben. Btw: \\n ist ein Zeileumbruch. \\t ist ein Tabulator."
   ]
  },
  {
   "cell_type": "code",
   "execution_count": null,
   "id": "9094982f-421e-443a-96c0-9da3c701bbd8",
   "metadata": {},
   "outputs": [],
   "source": [
    "begruessung = \"Hallo {ANREDE} \\n weltbewegender Text und dann \\t {GRUSS}\""
   ]
  },
  {
   "cell_type": "markdown",
   "id": "dca35492",
   "metadata": {},
   "source": [
    "Das ist besonders nützlich bei langen Texten, wo die Reihenfolge der Ersetzungen innerhalb des Textes ändern kann. Mit Named-Parameters muss die Reihenfolge innerhalb des Methodenaufrufs format() nicht mit der im String übereinstimmen. "
   ]
  },
  {
   "cell_type": "code",
   "execution_count": null,
   "id": "21fa3c6c-38a3-4976-817d-4a25f56d71c6",
   "metadata": {},
   "outputs": [],
   "source": [
    "for freund in freunde:\n",
    "    print(begruessung.format(ANREDE=freund, GRUSS=\"Tschüss\"))"
   ]
  },
  {
   "cell_type": "code",
   "execution_count": null,
   "id": "5938eff2",
   "metadata": {},
   "outputs": [],
   "source": [
    "for freund in freunde:\n",
    "    print(begruessung.format(GRUSS=\"Tschüss\",ANREDE=freund))"
   ]
  }
 ],
 "metadata": {
  "kernelspec": {
   "display_name": "Python 3 (ipykernel)",
   "language": "python",
   "name": "python3"
  },
  "language_info": {
   "codemirror_mode": {
    "name": "ipython",
    "version": 3
   },
   "file_extension": ".py",
   "mimetype": "text/x-python",
   "name": "python",
   "nbconvert_exporter": "python",
   "pygments_lexer": "ipython3",
   "version": "3.9.9"
  },
  "latex_envs": {
   "LaTeX_envs_menu_present": true,
   "autoclose": false,
   "autocomplete": true,
   "bibliofile": "biblio.bib",
   "cite_by": "apalike",
   "current_citInitial": 1,
   "eqLabelWithNumbers": true,
   "eqNumInitial": 1,
   "hotkeys": {
    "equation": "Ctrl-E",
    "itemize": "Ctrl-I"
   },
   "labels_anchors": false,
   "latex_user_defs": false,
   "report_style_numbering": false,
   "user_envs_cfg": false
  },
  "toc": {
   "base_numbering": 1,
   "nav_menu": {},
   "number_sections": true,
   "sideBar": true,
   "skip_h1_title": true,
   "title_cell": "Table of Contents",
   "title_sidebar": "Contents",
   "toc_cell": false,
   "toc_position": {},
   "toc_section_display": true,
   "toc_window_display": true
  },
  "varInspector": {
   "cols": {
    "lenName": 16,
    "lenType": 16,
    "lenVar": 40
   },
   "kernels_config": {
    "python": {
     "delete_cmd_postfix": "",
     "delete_cmd_prefix": "del ",
     "library": "var_list.py",
     "varRefreshCmd": "print(var_dic_list())"
    },
    "r": {
     "delete_cmd_postfix": ") ",
     "delete_cmd_prefix": "rm(",
     "library": "var_list.r",
     "varRefreshCmd": "cat(var_dic_list()) "
    }
   },
   "types_to_exclude": [
    "module",
    "function",
    "builtin_function_or_method",
    "instance",
    "_Feature"
   ],
   "window_display": false
  }
 },
 "nbformat": 4,
 "nbformat_minor": 5
}
