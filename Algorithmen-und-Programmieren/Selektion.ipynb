{
 "cells": [
  {
   "cell_type": "markdown",
   "id": "317b358f",
   "metadata": {},
   "source": [
    "# Wie Sie dieses Notebook nutzen:\n",
    "- Führen Sie diesen Code Zelle für Zelle aus. (Run Button klicken)\n",
    "- Um die Variableninhalte zu beobachten, nutzen Sie in Jupyter-Classic den \"Variable Inspektor\". Falls Sie dieses Notebook in Jupyter-Lab verwenden, nutzen Sie hierfür den eingebauten Debugger.\n",
    "- Wenn Sie \"Code Tutor\" zur Visualisierung des Ablaufes einzelner Zellen nutzen möchten, führen Sie einmalig die nachfolgende Zelle aus. Anschliessend schreiben Sie %%tutor in die erste Zeile jeder Zelle, die Sie visualisieren möchten.\n",
    "- Die Dokumentation von range(), len() und allen anderen eingebauten Funktionen, die ggf. verwendet wurden, finden Sie hier: https://docs.python.org/3/library/functions.html. Dieser [Spickzettel](https://rocco.melzian.ch/archiv/www.jython.ch/download/spickzettel.pdf) kann auch hilfreich sein."
   ]
  },
  {
   "cell_type": "code",
   "execution_count": null,
   "id": "a67343ad",
   "metadata": {},
   "outputs": [],
   "source": [
    "# Für Code Tutor Visualisierungen\n",
    "from metakernel import register_ipython_magics\n",
    "register_ipython_magics()"
   ]
  },
  {
   "cell_type": "markdown",
   "id": "6a6f8878",
   "metadata": {},
   "source": [
    "## Selektion\n",
    "\n",
    "### Was ist Selektion und wieso benötigen wir diese?\n",
    "\n",
    "Mit den Kontrollstrukturen, welche wir bisher kennengelernt haben, können wir Wiederholungen abbilden (<b>Schleifen</b>), Codegruppen zusammenfassen und parametrisiert ausführen (<b>Funktionen</b>) und haben eine Struktur um Werte zu merken, abzurufen und mit Operatoren zu manipulieren (<b>Variablen</b>). Nun fehlt uns nur noch eine wichtige Kontrollstruktur, die Selektion. Natürlich gibt es noch weitere, aber diese vier Kontrollstrukturen reichen um die gängigsten Programmierkonzepte abzubilden.\n",
    "\n",
    "Bei der <b>Selektion</b> geht es darum, dass ein bestimmter Code-Abschnitt nur dann ausgeführt werden soll, wenn eine bestimmte Bedingung erfüllt ist. Es werden also bestimmte Code-Abschnitte \"selektiert\". Mit dieser Struktur können wir ein Programm \"Entscheidungen\" fällen lassen. Zum Beispiel kann eine Webseite \"entscheiden\", dass ein bestimmter Bereich nur ersichtlich ist, wenn zuvor ein korrektes Passwort eingetippt wurde. \n",
    "\n",
    "Um Selektionen zu verstehen schauen wir uns in diesem Kapitel Vergleichsoperatoren, Teile der boolschen Algebra und den if/else-Syntax in Python an."
   ]
  },
  {
   "cell_type": "markdown",
   "id": "50a812bc",
   "metadata": {},
   "source": [
    "### Vergleichsoperatoren\n",
    "Damit wir programmatisch feststellen können, dass eine Bedingung erfüllt ist, benötigen wir entsprechende Vergleichsoperatoren. Diese Operatoren vergleichen zwei Werte und geben als Resultat den Wert \"wahr\" oder \"falsch\" zurück. Am besten verstehst du es, wenn wir direkt mit einem Beispiel einsteigen:\n",
    "\n",
    "Der Vergleichsoperator, welcher \"testet\" ob zwei Werte gleich sind, ist der ==-Operator. Der Code"
   ]
  },
  {
   "cell_type": "code",
   "execution_count": null,
   "id": "f8ce7ef2",
   "metadata": {},
   "outputs": [],
   "source": [
    "a = 1 == 2\n",
    "b = 4 == 4\n",
    "print(a, b)"
   ]
  },
  {
   "cell_type": "markdown",
   "id": "c7fbc1ac",
   "metadata": {},
   "source": [
    "gibt also (False, True) auf die Konsole zurück. Denn  1 == 2 ist falsch, weshalb der Variable a der Wert False zugewiesen wird und 4 == 4 ist wahr, weshalb der Variable b der Wert True zugewiesen wird. Du kannst also Vergleichsoperatoren wie == genau so verstehen wie zum Beispiel die +, -, * und / Operatoren. Während der +-Operator zwei Werte zusammenzählt und das Ergebnis zurückgibt, testet der ==-Operator einfach ob zwei Werte gleich sind und gibt das Ergebnis zurück.\n",
    "\n",
    "In diesem Kurs verwenden wir folgende Vergleichsoperatoren:\n",
    "\n",
    "|Operator|Erklärung|Beispiel|Wahrheitswert Beispiel\n",
    "|--|--|--|--\n",
    "|==|Prüfung auf Gleichheit|42 == 43|False\n",
    "|!=|Prüfung auf Ungleichheit|42 != 43|True\n",
    "|<|Prüfung auf \"kleiner\"|42 < 43|True\n",
    "|<=|Prüfung auf \"kleiner gleich\"|42 <= 43|True\n",
    "|>|Prüfung auf \"grösser\"|42 > 43|False\n",
    "|>=|Prüfung auf \"grösser gleich\"|42 >= 43|False\n",
    "\n",
    "Die Vergleichsoperatoren sind den anderen Operatoren nachgelagert und dem Zuweisungsoperator vorgelagert. Das lässt sich wiederum mit Beispielen verdeutlichen:"
   ]
  },
  {
   "cell_type": "code",
   "execution_count": null,
   "id": "14f55bae",
   "metadata": {},
   "outputs": [],
   "source": [
    "a = 3 != \"G\"\n",
    "print(a)"
   ]
  },
  {
   "cell_type": "markdown",
   "id": "760d3ed2",
   "metadata": {},
   "source": [
    "In diesem Beispiel wird der Variable a der Wert True zugewiesen. Denn der Vergleichsoperator (!=) ist dem Zuweisungsoperator (=) vorgelagert, das heisst zuerst wird 3 != \"G\" aufgelöst, bevor der Wert der Variable zugewiesen wird."
   ]
  },
  {
   "cell_type": "code",
   "execution_count": null,
   "id": "b7053fd8",
   "metadata": {},
   "outputs": [],
   "source": [
    "a = 4 % 3 == 1\n",
    "print(a)"
   ]
  },
  {
   "cell_type": "markdown",
   "id": "89a0358b",
   "metadata": {},
   "source": [
    "In diesem Fall wird der Variable a der Wert True zugewiesen. Denn der Vergleichsoperator (==) ist den anderen Operatoren (%) nachgelagert, weshalb zuerst 4 % 3 aufgelöst wird. Das ergibt 1. Nun wird der Vergleichsoperator (==) aufgelöst, weil dieser dem Zuweisungsoperator (=) vorgelagert ist. Es wird also 1 == 1 aufgelöst, was den Wert True ergibt. Am Schluss wird nun die Zuweisung aufgelöst.\n",
    "\n",
    "Beachte, dass auch diese Operatoren unterschiedlich mit verschiedenen Datentypen interagieren. So hat zum Beispiel im Code"
   ]
  },
  {
   "cell_type": "code",
   "execution_count": null,
   "id": "a602130b",
   "metadata": {},
   "outputs": [],
   "source": [
    "a = 4 == 4.0\n",
    "b = 4 == \"4\"\n",
    "print(a,b)"
   ]
  },
  {
   "cell_type": "markdown",
   "id": "684663a5",
   "metadata": {},
   "source": [
    "die Variable a den Wert True, die Variable b aber den Wert False. Wir werden uns aber wenig mit solchen Spezialfällen beschäftigen, wichtig ist nur, dass du weisst, dass es sie gibt."
   ]
  },
  {
   "cell_type": "markdown",
   "id": "fb9684b2",
   "metadata": {},
   "source": [
    "### Der Boolean Datentyp\n",
    "Die Werte True und False passen in keine der bisher bekannten Datentypen (int, str, float). Sie entsprechen einem neuen Datentyp, nämlich Boolean (abgekürzt bool). Das kann direkt ausprobiert werden. Der folgende Code"
   ]
  },
  {
   "cell_type": "code",
   "execution_count": null,
   "id": "060b50b5",
   "metadata": {},
   "outputs": [],
   "source": [
    "a = 1000 >= 50\n",
    "print(type(a))"
   ]
  },
  {
   "cell_type": "markdown",
   "id": "be257f0a",
   "metadata": {},
   "source": [
    "schreibt  <type 'bool'> in die Konsole weil Python der Variable a dynamisch den Datentyp Boolean zuweist. Wie auch bei den anderen Datentypen gibt es diverse Regeln, wie Boolean-Variablen mit Variablen anderen Typs interagieren. Wir werden auch hier aber nicht ins Detail gehen. Wichtig ist, dass du weisst, dass der Datentyp Boolean nur die Werte <b>True</b> und <b>False</b> enthalten kann und für das Testen von <b>Bedingungen</b> verwendet wird."
   ]
  },
  {
   "cell_type": "markdown",
   "id": "8cea2007",
   "metadata": {},
   "source": [
    "### Boolesche Algebra\n",
    "Manchmal möchten wir mehrere Bedingungen prüfen. Zum Beispiel könnte eine Webseite testen, ob die Nutzerin korrekt eingeloggt ist und alle nötigen Cookies akzeptiert hat, bevor ein bestimmter Inhalt angezeigt wird. Hierzu möchten wir zwei oder mehrere Wahrheitswerte (bzw. Variablen vom Typ Boolean) miteinander vergleichen. Hierzu benötigen wir nochmals drei Operatoren, nämlich <b>and</b>, <b>or</b> und <b>not</b>.\n",
    "\n",
    "Diese Operatoren werden meistens in Verbindung mit Wahrheitswerten verwendet, geben selbst einen Wahrheitswert zurück und folgen diesen Regeln:\n",
    "\n",
    "- Der and-Operator gibt nur dann den Wert True zurück, wenn alle verglichenen Werte True sind. Andererseits wird False zurückgegeben.\n",
    "- Der or-Operator gibt True zurück, wenn mindestens ein verglichener Wert True ist. Andererseits wird False zurückgegeben.\n",
    "- Der not-Operator wechselt den Wert True in False und den Wert False in True.\n",
    "\n",
    "Das verdeutlichen wir an folgendem Code-Beispiel:"
   ]
  },
  {
   "cell_type": "code",
   "execution_count": null,
   "id": "c4a3f6eb",
   "metadata": {},
   "outputs": [],
   "source": [
    "a = True\n",
    "b = False\n",
    "\n",
    "c = a and b\n",
    "d = a or b\n",
    "e = not a or b\n",
    "\n",
    "print(c, d, e)"
   ]
  },
  {
   "cell_type": "markdown",
   "id": "2e754f66",
   "metadata": {},
   "source": [
    "Hier wird (False, True, False) auf die Konsole geschrieben. Für die Variable c wird True and False verglichen, weshalb der and-Operator False zurückgibt. Für die Variable d wird True or False verglichen, weshalb der or-Operator True zurückgibt. Für die Variable e wird a mit dem not-Operator verbunden, weshalb False or False verglichen wird und der or-Operator darum False zurückgibt. \n",
    "\n",
    "Die folgenden Tabellen fassen die Regeln nochmals zusammen:\n",
    "\n",
    "|Wert 1|Wert 1|And|Or\n",
    "|--|--|--|--\n",
    "|False|False|False|False\n",
    "|True|False|False|True\n",
    "|False|True|False|True\n",
    "|True|True|True|True\n",
    "\n",
    "|Wert|Not\n",
    "|--|--\n",
    "|False|True\n",
    "|True|False"
   ]
  },
  {
   "cell_type": "markdown",
   "id": "df41c922",
   "metadata": {},
   "source": [
    "### If… else in Python\n",
    "Jetzt, da wir mit Vergleichsoperatoren und der Booleschen Algebra umgehen können, benötigen wir nur noch den If… else Syntax für Python um Entscheidungen abbilden zu können. Auch hier steigen wir direkt mit einem Beispiel ein:"
   ]
  },
  {
   "cell_type": "code",
   "execution_count": null,
   "id": "f6d0ddf4",
   "metadata": {},
   "outputs": [],
   "source": [
    "a = 200\n",
    "b = 33\n",
    "\n",
    "if b > a:\n",
    "    print(\"b ist grösser als a\")\n",
    "else:\n",
    "    print(\"b ist nicht grösser als a\")"
   ]
  },
  {
   "cell_type": "markdown",
   "id": "30e400fb",
   "metadata": {},
   "source": [
    "- Das Schlüsselwort if führt dazu, dass eine Bedingung überprüft wird. Diese Bedingung steht gleich nach dem Schlüsselwort if und wird abgeschlossen durch einen Doppelpunkt :. Wenn die Bedingung wahr ist, dann wird der nach dem Doppelpunkt eingerückte Codeblock ausgeführt.\n",
    "\t\n",
    "- Das Schlüsselwert else: folgt auf eine if-Bedingung. Falls die im if-Statement geprüfte Bedingung nicht wahr ist, wird der nach dem else-Schlüsselwort eingerückte Codeblock ausgeführt.\n",
    "\t\n",
    "- Der else-Syntax ist optional. Es kann auch nur ein if-Statement ohne else existieren. In diesem Fall wird der eingerückte Codeblock nur ausgeführt, wenn die geprüfte Bedingung wahr ist. Wenn nicht, dann wird kein Code ausgeführt und das Programm läuft weiter.\n",
    "\n",
    "- Nach dem if-Schlüsselwort erwartet Python einen Wahrheitswert. Dieser kann direkt mit einem Vergleichsoperator oder mit einer Boolean-Variable herbeigeführt werden. Die folgenden zwei Programme sind darum identisch:"
   ]
  },
  {
   "cell_type": "code",
   "execution_count": null,
   "id": "fb81c970",
   "metadata": {},
   "outputs": [],
   "source": [
    "# Programm Nr. 1\n",
    "a = 200\n",
    "b = 33\n",
    "\n",
    "if b <= a:\n",
    "    print(\"b ist kleiner gleich a\")\n",
    "else:\n",
    "    print(\"b ist nicht grösser als a\")"
   ]
  },
  {
   "cell_type": "code",
   "execution_count": null,
   "id": "12cb0d6f",
   "metadata": {},
   "outputs": [],
   "source": [
    "# Programm Nr. 2\n",
    "a = 200\n",
    "b = 33\n",
    "c = b <= a\n",
    "\n",
    "if c:\n",
    "    print(\"b ist kleiner gleich a\")\n",
    "else:\n",
    "    print(\"b ist nicht grösser als a\")"
   ]
  },
  {
   "cell_type": "markdown",
   "id": "073b1db0",
   "metadata": {},
   "source": [
    "Wenn elif verwendet wird, können bequem mehrere Bedinungen nacheinander geprüft werden."
   ]
  },
  {
   "cell_type": "code",
   "execution_count": null,
   "id": "4c7b4031",
   "metadata": {},
   "outputs": [],
   "source": [
    "x = 10\n",
    "y = 20\n",
    "if x > y:\n",
    "    print(\"x is bigger than y\")\n",
    "elif x < y:\n",
    "    print(\"y is smaller than y\")\n",
    "elif x == y:\n",
    "    print(\"y is equal than y\")\n",
    "else:\n",
    "    print(\"ERROR: should have never reached this stage ....\")"
   ]
  },
  {
   "cell_type": "markdown",
   "id": "df52cc49",
   "metadata": {},
   "source": [
    "In Python können Abfragen auch an zwei Bedingung gleichzeitig geknüpft werden."
   ]
  },
  {
   "cell_type": "code",
   "execution_count": null,
   "id": "b8d9c52b",
   "metadata": {},
   "outputs": [],
   "source": [
    "a = 10\n",
    "anwort = \"\"\n",
    "if 0 < a < 100:\n",
    "    print(a, \"liegt zwischen 0 und 100\")\n",
    "else:\n",
    "    print(a, \"liegt nicht zwischen 0 und 100\")"
   ]
  },
  {
   "cell_type": "markdown",
   "id": "5e25a8e1",
   "metadata": {},
   "source": [
    "### Übungen\n",
    "#### Syntax\n",
    "\n",
    "Welche dieser Befehle sind gültige Vergleiche in Python, geben also True oder False zurück?"
   ]
  },
  {
   "cell_type": "code",
   "execution_count": null,
   "id": "4b25aeb3",
   "metadata": {},
   "outputs": [],
   "source": [
    "# Vorbereitung Variablen\n",
    "vorname = \"Bernd\"\n",
    "txt = \"Hallo\"\n",
    "you = \"you\"\n",
    "ausgabe7 = 77\n",
    "y = 0"
   ]
  },
  {
   "cell_type": "code",
   "execution_count": null,
   "id": "02a77d8b",
   "metadata": {},
   "outputs": [],
   "source": [
    "x = 77"
   ]
  },
  {
   "cell_type": "code",
   "execution_count": null,
   "id": "d09b2d84",
   "metadata": {},
   "outputs": [],
   "source": [
    "y == 8"
   ]
  },
  {
   "cell_type": "code",
   "execution_count": null,
   "id": "e57fb854",
   "metadata": {},
   "outputs": [],
   "source": [
    "txt == txt[1]"
   ]
  },
  {
   "cell_type": "code",
   "execution_count": null,
   "id": "deaa118c",
   "metadata": {},
   "outputs": [],
   "source": [
    "vorname != \"Maria\""
   ]
  },
  {
   "cell_type": "code",
   "execution_count": null,
   "id": "aa8a8863",
   "metadata": {},
   "outputs": [],
   "source": [
    "you = \"ok\""
   ]
  },
  {
   "cell_type": "code",
   "execution_count": null,
   "id": "0413382a",
   "metadata": {},
   "outputs": [],
   "source": [
    "ausgabe7 > 77"
   ]
  },
  {
   "cell_type": "code",
   "execution_count": null,
   "id": "b04e3881",
   "metadata": {},
   "outputs": [],
   "source": [
    "9 % 3"
   ]
  },
  {
   "cell_type": "code",
   "execution_count": null,
   "id": "16b180bc",
   "metadata": {},
   "outputs": [],
   "source": [
    "9 % 3 == 0"
   ]
  },
  {
   "cell_type": "code",
   "execution_count": null,
   "id": "33d9a66d",
   "metadata": {},
   "outputs": [],
   "source": [
    "0 == 9 % 3"
   ]
  },
  {
   "cell_type": "markdown",
   "id": "a7be80ef",
   "metadata": {},
   "source": [
    "#### Vergleichsoperatoren\n",
    "\n",
    "Die Variable x sei definiert worden mit"
   ]
  },
  {
   "cell_type": "code",
   "execution_count": null,
   "id": "aee2db64",
   "metadata": {},
   "outputs": [],
   "source": [
    "x = 27"
   ]
  },
  {
   "cell_type": "markdown",
   "id": "e601e862",
   "metadata": {},
   "source": [
    "Was ergibt folgende Prüfung?"
   ]
  },
  {
   "cell_type": "code",
   "execution_count": null,
   "id": "bfefb458",
   "metadata": {},
   "outputs": [],
   "source": [
    "x % 9 == 0"
   ]
  },
  {
   "cell_type": "markdown",
   "id": "ad99700f",
   "metadata": {},
   "source": [
    "Die Variable x sei definiert worden mit"
   ]
  },
  {
   "cell_type": "code",
   "execution_count": null,
   "id": "8959f036",
   "metadata": {},
   "outputs": [],
   "source": [
    "x = 27"
   ]
  },
  {
   "cell_type": "markdown",
   "id": "ffe8676e",
   "metadata": {},
   "source": [
    "Was ergibt folgende Prüfung?"
   ]
  },
  {
   "cell_type": "code",
   "execution_count": null,
   "id": "1ea6b676",
   "metadata": {},
   "outputs": [],
   "source": [
    "x % 9 >= x % 3"
   ]
  },
  {
   "cell_type": "markdown",
   "id": "03819a62",
   "metadata": {},
   "source": [
    "Es seien x und y wie folgt definiert worden:"
   ]
  },
  {
   "cell_type": "code",
   "execution_count": null,
   "id": "6eecb969",
   "metadata": {},
   "outputs": [],
   "source": [
    "x = 'Kanti'\n",
    "y = 'itnaK'"
   ]
  },
  {
   "cell_type": "markdown",
   "id": "6ccceafb",
   "metadata": {},
   "source": [
    "Was ergibt folgende Prüfung?"
   ]
  },
  {
   "cell_type": "code",
   "execution_count": null,
   "id": "fd568b4e",
   "metadata": {},
   "outputs": [],
   "source": [
    "x[1] == y[3]"
   ]
  },
  {
   "cell_type": "markdown",
   "id": "6288bb6b",
   "metadata": {},
   "source": [
    "Es seien x und y wie folgt definiert worden:"
   ]
  },
  {
   "cell_type": "code",
   "execution_count": null,
   "id": "288a5ba1",
   "metadata": {},
   "outputs": [],
   "source": [
    "x = 3\n",
    "y = '3'"
   ]
  },
  {
   "cell_type": "markdown",
   "id": "f4670af6",
   "metadata": {},
   "source": [
    "Was ergibt folgende Prüfung?"
   ]
  },
  {
   "cell_type": "code",
   "execution_count": null,
   "id": "776d67b4",
   "metadata": {},
   "outputs": [],
   "source": [
    "type(x) == type(y)"
   ]
  },
  {
   "cell_type": "markdown",
   "id": "0acd70c2",
   "metadata": {},
   "source": [
    "Es seien x und y wie folgt definiert worden:"
   ]
  },
  {
   "cell_type": "code",
   "execution_count": null,
   "id": "711d5b88",
   "metadata": {},
   "outputs": [],
   "source": [
    "x = 23\n",
    "y = 32"
   ]
  },
  {
   "cell_type": "markdown",
   "id": "c6d3cb3f",
   "metadata": {},
   "source": [
    "Was ergibt folgende Prüfung?"
   ]
  },
  {
   "cell_type": "code",
   "execution_count": null,
   "id": "a6a18391",
   "metadata": {},
   "outputs": [],
   "source": [
    "x // 10 + x % 10 == y % 10 + y // 10"
   ]
  },
  {
   "cell_type": "markdown",
   "id": "1616a6e5",
   "metadata": {},
   "source": [
    "#### Boolesche Algebra mit Variablen\n",
    "\n",
    "Welchen Wert schreibt dieses Programm auf die Konsole?"
   ]
  },
  {
   "cell_type": "code",
   "execution_count": null,
   "id": "5e832ba9",
   "metadata": {},
   "outputs": [],
   "source": [
    "x = False\n",
    "y = 13 // 6 == 2\n",
    "\n",
    "z = x and y\n",
    "\n",
    "print(z)"
   ]
  },
  {
   "cell_type": "markdown",
   "id": "612b6d04",
   "metadata": {},
   "source": [
    "Welchen Wert schreibt dieses Programm auf die Konsole?"
   ]
  },
  {
   "cell_type": "code",
   "execution_count": null,
   "id": "2fdcc91f",
   "metadata": {},
   "outputs": [],
   "source": [
    "x =  \"Hallo\" == \"Welt\"\n",
    "y = \"Hallo Welt\" == \"Hallo Welt\"\n",
    "\n",
    "z = x or y\n",
    "\n",
    "print(z)"
   ]
  },
  {
   "cell_type": "markdown",
   "id": "eccc9fd7",
   "metadata": {},
   "source": [
    "#### Eingebettete Boolesche Algebra\n",
    "\n",
    "Welchen Wert schreibt dieses Programm auf die Konsole?"
   ]
  },
  {
   "cell_type": "code",
   "execution_count": null,
   "id": "3a09f2d4",
   "metadata": {},
   "outputs": [],
   "source": [
    "x = 6\n",
    "\n",
    "y = x % 2 == 0 and x % 3 == 0\n",
    "\n",
    "print(y)"
   ]
  },
  {
   "cell_type": "markdown",
   "id": "d742ce64",
   "metadata": {},
   "source": [
    "#### Selektionen nachvollziehen\n",
    "Was gibt folgendes Programm aus?"
   ]
  },
  {
   "cell_type": "code",
   "execution_count": null,
   "id": "670edb47",
   "metadata": {},
   "outputs": [],
   "source": [
    "b = True\n",
    "\n",
    "if b:\n",
    "    print('halli')\n",
    "print ('hallo')"
   ]
  },
  {
   "cell_type": "markdown",
   "id": "570df2b5",
   "metadata": {},
   "source": [
    "Was gibt folgendes Programm aus?"
   ]
  },
  {
   "cell_type": "code",
   "execution_count": null,
   "id": "1ec23cf0",
   "metadata": {},
   "outputs": [],
   "source": [
    "b = 8 < 7\n",
    "\n",
    "if b:\n",
    "    print('halli')\n",
    "else:\n",
    "    print('hallo')"
   ]
  },
  {
   "cell_type": "markdown",
   "id": "a37f5897",
   "metadata": {},
   "source": [
    "Was gibt das Programm aus?"
   ]
  },
  {
   "cell_type": "code",
   "execution_count": null,
   "id": "83d353ce",
   "metadata": {},
   "outputs": [],
   "source": [
    "x = 21\n",
    "y = 12\n",
    "\n",
    "if y <= x:\n",
    "    print('Fall 1')\n",
    "else:\n",
    "    print('Fall 2')"
   ]
  },
  {
   "cell_type": "markdown",
   "id": "384f9818",
   "metadata": {},
   "source": [
    "#### Eigene Programme\n",
    "\n",
    "Schreibe ein Programm, welches die Zahlen von 1 bis 100 auf die Konsole schreibt. Allerdings soll, wenn immer die Zahl restlos durch 7 und/oder durch 10 teilbar ist, nicht die Zahl, sondern das Wort Pssst! auf die Konsole geschrieben werden. Die ersten 15 Zahlen würden also wie folgt aussehen:\n",
    "<pre>\n",
    "1\n",
    "2\n",
    "3\n",
    "4\n",
    "5\n",
    "6\n",
    "Pssst!\n",
    "8\n",
    "9\n",
    "Pssst!\n",
    "11\n",
    "12\n",
    "13\n",
    "Pssst!\n",
    "15\n",
    "</pre>\n",
    "Tipp: Verwende eine Variable und eine Schleife um von 1 bis 100 zu zählen. Verwende dann ein if...else-Statement um zu entscheiden, ob die Zahl oder das Wort geschrieben werden soll."
   ]
  },
  {
   "cell_type": "code",
   "execution_count": null,
   "id": "8618fdf0",
   "metadata": {
    "code_folding": []
   },
   "outputs": [],
   "source": [
    "# Ihre Lösung hier:\n"
   ]
  },
  {
   "cell_type": "code",
   "execution_count": null,
   "id": "a2261289",
   "metadata": {
    "code_folding": [
     0
    ]
   },
   "outputs": [],
   "source": [
    "def musterloesung():\n",
    "    for x in range(1,101):\n",
    "        if x % 7 == 0 or x % 10 == 0:\n",
    "            print(\"Pssst!\")\n",
    "        else:\n",
    "            print(x)\n",
    "        x = x + 1\n",
    "musterloesung()"
   ]
  },
  {
   "cell_type": "markdown",
   "id": "947ae0cb",
   "metadata": {},
   "source": [
    "Schreibe ein Programm, welches die Eingabe der Nutzer überprüft. Es soll eine Zahl eingetippt werden, welche maximal zweistellig und positiv ist.\n",
    "\n",
    "- Falls die Zahl die Bedingungen erfüllt, soll der Text [Eingetippte Zahl] erfüllt die Bedingungen! auf die Konsole geschrieben werden.\n",
    "- Falls die Zahl zu gross ist, soll der Text [Eingetippte Zahl] ist zu gross! auf die Konsole geschrieben werden.\n",
    "- Falls die Zahl negativ ist, soll der Text [Eingetippte Zahl] ist negativ! auf die Konsole geschrieben werden.\n",
    "\n",
    "Beginne mit dem folgenden Code:"
   ]
  },
  {
   "cell_type": "code",
   "execution_count": null,
   "id": "df7f17fa",
   "metadata": {},
   "outputs": [],
   "source": [
    "x = int(input('Bitte eine maximal 2-stellige positive Zahl eingeben\\n'))\n"
   ]
  },
  {
   "cell_type": "markdown",
   "id": "fb67b925",
   "metadata": {},
   "source": [
    "Musterlösung"
   ]
  },
  {
   "cell_type": "code",
   "execution_count": null,
   "id": "4c81b67d",
   "metadata": {
    "code_folding": [
     0
    ]
   },
   "outputs": [],
   "source": [
    "def musterloesung():\n",
    "    x = int(input('Bitte eine maximal 2-stellige positive Zahl eingeben\\n'))\n",
    "\n",
    "    if x >= 100:\n",
    "        antwort = \"ist zu gross!\"\n",
    "\n",
    "    if x < 0:\n",
    "        antwort = \"ist negativ!\"\n",
    "\n",
    "    if x < 100 and x > 0:\n",
    "        antwort = \"erfüllt Bedingungen!\"\n",
    "\n",
    "    print(x,antwort)"
   ]
  },
  {
   "cell_type": "markdown",
   "id": "9ba283f9",
   "metadata": {},
   "source": [
    "Im übrigen gibt es noch den elif Syntax. \"elif\" ist eine Abkürzug für \"else if\". So liesse sich das Programm nochmals vereinfachen:"
   ]
  },
  {
   "cell_type": "code",
   "execution_count": null,
   "id": "a5ae73fe",
   "metadata": {
    "code_folding": [
     0
    ]
   },
   "outputs": [],
   "source": [
    "def musterloesung():\n",
    "    x = int(input('Bitte eine maximal 2-stellige positive Zahl eingeben\\n'))\n",
    "\n",
    "    if(x >= 100):\n",
    "        antwort = \"ist zu gross!\"\n",
    "    elif x < 0:\n",
    "        antwort = \"ist negativ!\"\n",
    "    else:\n",
    "        antwort = \"erfüllt Bedingungen!\"\n",
    "\n",
    "    print(x,antwort) "
   ]
  }
 ],
 "metadata": {
  "kernelspec": {
   "display_name": "Python 3 (ipykernel)",
   "language": "python",
   "name": "python3"
  },
  "language_info": {
   "codemirror_mode": {
    "name": "ipython",
    "version": 3
   },
   "file_extension": ".py",
   "mimetype": "text/x-python",
   "name": "python",
   "nbconvert_exporter": "python",
   "pygments_lexer": "ipython3",
   "version": "3.9.10"
  },
  "latex_envs": {
   "LaTeX_envs_menu_present": true,
   "autoclose": false,
   "autocomplete": true,
   "bibliofile": "biblio.bib",
   "cite_by": "apalike",
   "current_citInitial": 1,
   "eqLabelWithNumbers": true,
   "eqNumInitial": 1,
   "hotkeys": {
    "equation": "Ctrl-E",
    "itemize": "Ctrl-I"
   },
   "labels_anchors": false,
   "latex_user_defs": false,
   "report_style_numbering": false,
   "user_envs_cfg": false
  },
  "toc": {
   "base_numbering": 1,
   "nav_menu": {},
   "number_sections": true,
   "sideBar": true,
   "skip_h1_title": true,
   "title_cell": "Table of Contents",
   "title_sidebar": "Contents",
   "toc_cell": false,
   "toc_position": {},
   "toc_section_display": true,
   "toc_window_display": true
  },
  "varInspector": {
   "cols": {
    "lenName": 16,
    "lenType": 16,
    "lenVar": 40
   },
   "kernels_config": {
    "python": {
     "delete_cmd_postfix": "",
     "delete_cmd_prefix": "del ",
     "library": "var_list.py",
     "varRefreshCmd": "print(var_dic_list())"
    },
    "r": {
     "delete_cmd_postfix": ") ",
     "delete_cmd_prefix": "rm(",
     "library": "var_list.r",
     "varRefreshCmd": "cat(var_dic_list()) "
    }
   },
   "position": {
    "height": "454.85px",
    "left": "1028px",
    "right": "20px",
    "top": "120px",
    "width": "350px"
   },
   "types_to_exclude": [
    "module",
    "function",
    "builtin_function_or_method",
    "instance",
    "_Feature"
   ],
   "window_display": false
  }
 },
 "nbformat": 4,
 "nbformat_minor": 5
}
