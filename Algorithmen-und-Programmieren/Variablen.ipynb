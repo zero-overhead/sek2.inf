{
 "cells": [
  {
   "cell_type": "markdown",
   "id": "f8d33f2a",
   "metadata": {},
   "source": [
    "# Wie Sie dieses Notebook nutzen:\n",
    "- Führen Sie diesen Code Zelle für Zelle aus.\n",
    "- Um die Variableninhalte zu beobachten, nutzen Sie in Jupyter-Classic den \"Variable Inspektor\". Falls Sie dieses Notebook in Jupyter-Lab verwenden, nutzen Sie hierfür den eingebauten Debugger.\n",
    "- Wenn Sie \"Code Tutor\" zur Visualisierung des Ablaufes einzelner Zellen nutzen möchten, führen Sie einmalig die nachfolgende Zelle aus. Anschliessend schreiben Sie %%tutor in die erste Zeile jeder Zelle, die Sie visualisieren möchten.\n",
    "- Die Dokumentation von range(), len() und allen anderen eingebauten Funktionen finden Sie hier: https://docs.python.org/3/library/functions.html"
   ]
  },
  {
   "cell_type": "code",
   "execution_count": null,
   "id": "e592e9c2",
   "metadata": {},
   "outputs": [],
   "source": [
    "# Für Code Tutor Visualisierungen\n",
    "from metakernel import register_ipython_magics\n",
    "register_ipython_magics()"
   ]
  },
  {
   "cell_type": "markdown",
   "id": "ae26ecd6",
   "metadata": {},
   "source": [
    "## Variablen\n",
    "\n",
    "|Name|voller Name|Beschreibung|Beispiel\n",
    "|-|-|-|-\n",
    "|int|integer|ganze Zahlen|x=2020\n",
    "|foat|foating point number|Fliesskommazahl|x=3.14159\n",
    "|str|string|Zeichenkette|x='hallo'\n",
    "|bool|boolean|wahr (True) oder falsch (False)|x=True"
   ]
  },
  {
   "cell_type": "code",
   "execution_count": null,
   "id": "4e9d96dd",
   "metadata": {},
   "outputs": [],
   "source": [
    "name = \"Räuber Hotzenplotz\"\n",
    "print(name)"
   ]
  },
  {
   "cell_type": "markdown",
   "id": "ebc38db3",
   "metadata": {},
   "source": [
    "Variablen können auch vom Nutzer mit Werten belegt werden."
   ]
  },
  {
   "cell_type": "code",
   "execution_count": null,
   "id": "065dee09",
   "metadata": {},
   "outputs": [],
   "source": [
    "name = input(\"Dein Name: \")\n",
    "print(\"Der letzte Buchstabe: {}\".format(name[-1]))"
   ]
  }
 ],
 "metadata": {
  "kernelspec": {
   "display_name": "Python 3 (ipykernel)",
   "language": "python",
   "name": "python3"
  },
  "language_info": {
   "codemirror_mode": {
    "name": "ipython",
    "version": 3
   },
   "file_extension": ".py",
   "mimetype": "text/x-python",
   "name": "python",
   "nbconvert_exporter": "python",
   "pygments_lexer": "ipython3",
   "version": "3.9.9"
  },
  "latex_envs": {
   "LaTeX_envs_menu_present": true,
   "autoclose": false,
   "autocomplete": true,
   "bibliofile": "biblio.bib",
   "cite_by": "apalike",
   "current_citInitial": 1,
   "eqLabelWithNumbers": true,
   "eqNumInitial": 1,
   "hotkeys": {
    "equation": "Ctrl-E",
    "itemize": "Ctrl-I"
   },
   "labels_anchors": false,
   "latex_user_defs": false,
   "report_style_numbering": false,
   "user_envs_cfg": false
  },
  "toc": {
   "base_numbering": 1,
   "nav_menu": {},
   "number_sections": true,
   "sideBar": true,
   "skip_h1_title": true,
   "title_cell": "Table of Contents",
   "title_sidebar": "Contents",
   "toc_cell": false,
   "toc_position": {},
   "toc_section_display": true,
   "toc_window_display": true
  },
  "varInspector": {
   "cols": {
    "lenName": 16,
    "lenType": 16,
    "lenVar": 40
   },
   "kernels_config": {
    "python": {
     "delete_cmd_postfix": "",
     "delete_cmd_prefix": "del ",
     "library": "var_list.py",
     "varRefreshCmd": "print(var_dic_list())"
    },
    "r": {
     "delete_cmd_postfix": ") ",
     "delete_cmd_prefix": "rm(",
     "library": "var_list.r",
     "varRefreshCmd": "cat(var_dic_list()) "
    }
   },
   "types_to_exclude": [
    "module",
    "function",
    "builtin_function_or_method",
    "instance",
    "_Feature"
   ],
   "window_display": false
  }
 },
 "nbformat": 4,
 "nbformat_minor": 5
}
