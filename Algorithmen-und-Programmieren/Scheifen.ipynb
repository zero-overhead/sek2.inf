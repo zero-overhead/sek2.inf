{
 "cells": [
  {
   "cell_type": "markdown",
   "id": "18ac95f8",
   "metadata": {},
   "source": [
    "# Wie Sie dieses Notebook nutzen:\n",
    "- Führen Sie diesen Code Zelle für Zelle aus.\n",
    "- Um die Variableninhalte zu beobachten, nutzen Sie in Jupyter-Classic den \"Variable Inspektor\". Falls Sie dieses Notebook in Jupyter-Lab verwenden, nutzen Sie hierfür den eingebauten Debugger.\n",
    "- Wenn Sie \"Code Tutor\" zur Visualisierung des Ablaufes einzelner Zellen nutzen möchten, führen Sie einmalig die nachfolgende Zelle aus. Anschliessend schreiben Sie %%tutor in die erste Zeile jeder Zelle, die Sie visualisieren möchten.\n",
    "- Die Dokumentation von range(), len() und allen anderen eingebauten Funktionen finden Sie hier: https://docs.python.org/3/library/functions.html"
   ]
  },
  {
   "cell_type": "code",
   "execution_count": null,
   "id": "a98c2da5",
   "metadata": {},
   "outputs": [],
   "source": [
    "# Für Code Tutor Visualisierungen\n",
    "from metakernel import register_ipython_magics\n",
    "register_ipython_magics()"
   ]
  },
  {
   "cell_type": "markdown",
   "id": "36f91295",
   "metadata": {},
   "source": [
    "# Schleifen\n",
    "- Schleifen definiert man mit __for__ oder __while__\n",
    "- Die korrekte Einrückung des Anweisungsblocks ist zu beachten.\n",
    "- Schleifen können mit __break__ vorzeitig geendet werden\n",
    "- Schleifen können mit __continue__ vorzeitig zum nächsten Durchlauf springen \n",
    "\n"
   ]
  },
  {
   "cell_type": "markdown",
   "id": "870cf47e",
   "metadata": {},
   "source": [
    "### while\n",
    "- While-Schleifen sind praktisch, wenn man die Abbruchbedingung oder Anzahl der Durchläufe nicht vor Beginn des ersten Durchlaufs kennt\n",
    "- Bei While-Schleifen muss die Abbruchbedingung selbst überwacht werden - indem z.B. eine Zählvariable hochgezählt wird. \n",
    "- Mit while-schleifen können unendlich lange laufende Programme geschrieben werden."
   ]
  },
  {
   "cell_type": "code",
   "execution_count": null,
   "id": "eae00db2",
   "metadata": {},
   "outputs": [],
   "source": [
    "%%tutor\n",
    "\n",
    "i = 0\n",
    "ende = 4\n",
    "while i < ende:\n",
    "    print(i)\n",
    "    i = i + 1"
   ]
  },
  {
   "cell_type": "markdown",
   "id": "2477bf87",
   "metadata": {},
   "source": [
    "... sonst starten while-Schleife entweder nie oder laufen für immer."
   ]
  },
  {
   "cell_type": "code",
   "execution_count": null,
   "id": "a1b3f5b1",
   "metadata": {},
   "outputs": [],
   "source": [
    "while 2 < 1:\n",
    "    print(\"Höchst unwahrscheinlich, dass das hier ausgegeben wird!\")"
   ]
  },
  {
   "cell_type": "code",
   "execution_count": null,
   "id": "c7f3b918",
   "metadata": {},
   "outputs": [],
   "source": [
    "i = 0\n",
    "while True:\n",
    "    print(\"{} Der Stop-Knopf befindet sich rechts neben dem Run-Knopf!\".format(i))\n",
    "    i += 1"
   ]
  },
  {
   "cell_type": "markdown",
   "id": "cd65ceea",
   "metadata": {},
   "source": [
    "Schleifen können mit __break__ beendet werden, mit __continue__ kann zur nächsten Iteration gesprungen werden,"
   ]
  },
  {
   "cell_type": "code",
   "execution_count": null,
   "id": "eed93fce",
   "metadata": {},
   "outputs": [],
   "source": [
    "i = 0\n",
    "while i < 10:\n",
    "    i = i + 1\n",
    "    if i % 2 == 0:\n",
    "        continue\n",
    "    if i == 7:\n",
    "        break\n",
    "    print(i)"
   ]
  },
  {
   "cell_type": "markdown",
   "id": "70e9039a",
   "metadata": {},
   "source": [
    "### for\n",
    "- For-Schleifen itterieren alle Elemente einer Liste oder range() \n",
    "- For-Schleifen weisen automatisch jedes Element der zu itterierenden Liste der Reihe nach einer Variablen zu (im Beispiel unten i oder x genannt)"
   ]
  },
  {
   "cell_type": "code",
   "execution_count": null,
   "id": "8ea5e095",
   "metadata": {},
   "outputs": [],
   "source": [
    "%%tutor\n",
    "\n",
    "alist = ['rot', 'grün', 'blau']\n",
    "for x in alist:\n",
    "    print(x)"
   ]
  },
  {
   "cell_type": "code",
   "execution_count": null,
   "id": "ac90b413",
   "metadata": {},
   "outputs": [],
   "source": [
    "%%tutor\n",
    "\n",
    "ende = 4\n",
    "for i in range(ende):\n",
    "    print(i)"
   ]
  }
 ],
 "metadata": {
  "kernelspec": {
   "display_name": "Python 3 (ipykernel)",
   "language": "python",
   "name": "python3"
  },
  "language_info": {
   "codemirror_mode": {
    "name": "ipython",
    "version": 3
   },
   "file_extension": ".py",
   "mimetype": "text/x-python",
   "name": "python",
   "nbconvert_exporter": "python",
   "pygments_lexer": "ipython3",
   "version": "3.9.9"
  },
  "latex_envs": {
   "LaTeX_envs_menu_present": true,
   "autoclose": false,
   "autocomplete": true,
   "bibliofile": "biblio.bib",
   "cite_by": "apalike",
   "current_citInitial": 1,
   "eqLabelWithNumbers": true,
   "eqNumInitial": 1,
   "hotkeys": {
    "equation": "Ctrl-E",
    "itemize": "Ctrl-I"
   },
   "labels_anchors": false,
   "latex_user_defs": false,
   "report_style_numbering": false,
   "user_envs_cfg": false
  },
  "toc": {
   "base_numbering": 1,
   "nav_menu": {},
   "number_sections": true,
   "sideBar": true,
   "skip_h1_title": true,
   "title_cell": "Table of Contents",
   "title_sidebar": "Contents",
   "toc_cell": false,
   "toc_position": {},
   "toc_section_display": true,
   "toc_window_display": true
  },
  "varInspector": {
   "cols": {
    "lenName": 16,
    "lenType": 16,
    "lenVar": 40
   },
   "kernels_config": {
    "python": {
     "delete_cmd_postfix": "",
     "delete_cmd_prefix": "del ",
     "library": "var_list.py",
     "varRefreshCmd": "print(var_dic_list())"
    },
    "r": {
     "delete_cmd_postfix": ") ",
     "delete_cmd_prefix": "rm(",
     "library": "var_list.r",
     "varRefreshCmd": "cat(var_dic_list()) "
    }
   },
   "position": {
    "height": "438.85px",
    "left": "1070px",
    "right": "20px",
    "top": "120px",
    "width": "350px"
   },
   "types_to_exclude": [
    "module",
    "function",
    "builtin_function_or_method",
    "instance",
    "_Feature"
   ],
   "window_display": false
  }
 },
 "nbformat": 4,
 "nbformat_minor": 5
}
